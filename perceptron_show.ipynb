{
  "nbformat": 4,
  "nbformat_minor": 0,
  "metadata": {
    "colab": {
      "provenance": [],
      "authorship_tag": "ABX9TyO+u19dJBlSTAhtOjDj5xq+",
      "include_colab_link": true
    },
    "kernelspec": {
      "name": "python3",
      "display_name": "Python 3"
    },
    "language_info": {
      "name": "python"
    }
  },
  "cells": [
    {
      "cell_type": "markdown",
      "metadata": {
        "id": "view-in-github",
        "colab_type": "text"
      },
      "source": [
        "<a href=\"https://colab.research.google.com/github/luisin-py/Estudos-redes-neurais/blob/main/perceptron_show.ipynb\" target=\"_parent\"><img src=\"https://colab.research.google.com/assets/colab-badge.svg\" alt=\"Open In Colab\"/></a>"
      ]
    },
    {
      "cell_type": "markdown",
      "source": [
        "# Exemplo decisão ir ou não a um show\n",
        "\n",
        "Como exemplo de aplicação de rede neural na tomada de decisão imagina-se uma base de dados sobre diferentes shows para o mesmo cliente que leva em consideração se é longe $(x_1)$, se é caro $(x_2)$, se tem amigos para ir junto $(x_3)$ e a decisão tomada $(d)$. Onde $0$ significa não e $1$ significa sim. As decisões serão usadas de rótulo (solução desejada) na fase supervisionada da rede. Diante disso tem-se a seguinte tabela:\n",
        "\n",
        "| Show | $x_1$ | $x_2$ | $x_3$ | $d$ |\n",
        "| --| -- | -- | -- | -- |\n",
        "| 1 | 0  |  0 | 1 | 1|\n",
        "| 2 | 1 | 0 | 1 | 1 |\n",
        "| 3 | 1 | 1 | 1 | 0 |\n",
        "| 4 | 1 | 1 | 0 | 0 |\n",
        "\n",
        "\n"
      ],
      "metadata": {
        "id": "daQj8TQi93zT"
      }
    },
    {
      "cell_type": "code",
      "execution_count": 1,
      "metadata": {
        "colab": {
          "base_uri": "https://localhost:8080/"
        },
        "id": "f8yW98mF9s_l",
        "outputId": "b638478b-66a8-45df-a289-45a81962d29c"
      },
      "outputs": [
        {
          "output_type": "stream",
          "name": "stdout",
          "text": [
            "Época: 1\n",
            "Pesos Atualizados: [0. 0. 0.]\n",
            "Total de Erros: 0\n",
            "Pesos Atualizados: [0. 0. 0.]\n",
            "Total de Erros: 0\n",
            "Pesos Atualizados: [-0.1 -0.1 -0.1]\n",
            "Total de Erros: 1\n",
            "Pesos Atualizados: [-0.2 -0.2 -0.1]\n",
            "Total de Erros: 2\n",
            "Época: 2\n",
            "Pesos Atualizados: [-0.2 -0.2 -0.1]\n",
            "Total de Erros: 0\n",
            "Pesos Atualizados: [-0.2 -0.2 -0.1]\n",
            "Total de Erros: 0\n",
            "Pesos Atualizados: [-0.3 -0.3 -0.2]\n",
            "Total de Erros: 1\n",
            "Pesos Atualizados: [-0.4 -0.4 -0.2]\n",
            "Total de Erros: 2\n",
            "Época: 3\n",
            "Pesos Atualizados: [-0.4 -0.4 -0.2]\n",
            "Total de Erros: 0\n",
            "Pesos Atualizados: [-0.4 -0.4 -0.2]\n",
            "Total de Erros: 0\n",
            "Pesos Atualizados: [-0.4 -0.4 -0.2]\n",
            "Total de Erros: 0\n",
            "Pesos Atualizados: [-0.4 -0.4 -0.2]\n",
            "Total de Erros: 0\n"
          ]
        }
      ],
      "source": [
        "#codigo perceptron de uma camada exemplo show\n",
        "\n",
        "import numpy as np #importar bibliotecas necessarias\n",
        "\n",
        "\n",
        "x = np.array([[0,0,1],[1,0,1],[1,1,1],[1,1,0]]) #entradas dos valores logicos possiveis\n",
        "d = np.array([1,1,0,0]) #saida esperada da tabela AND\n",
        "w = np.array([0,0,0]) #pesos iniciais\n",
        "b = 1\n",
        "\n",
        "eta = 0.1 #taxa de atualizacao dos pesos a cada iteracao\n",
        "\n",
        "def Heaviside(u): #funcao que determina ativacao do perceptron\n",
        "\n",
        "  if u >= 0: #se for maior que 1 ativa\n",
        "\n",
        "    return 1\n",
        "\n",
        "  return 0 #caso contrario nao ativa\n",
        "\n",
        "def calculoSaida(x): #funcao para apos a multiplicacao dos pesos saber quais perceptrons ativam\n",
        "\n",
        "  u = np.dot(w, x) #multiplica pelos pesos\n",
        "\n",
        "  return Heaviside(u+b) #retorna a ativacao\n",
        "\n",
        "\n",
        "erroTotal = 1 #definir erro como 1 para entrar no while\n",
        "epoca = 1\n",
        "\n",
        "while erroTotal != 0: #repetir o processo ate nao haver mais erros\n",
        "\n",
        "  erroTotal = 0\n",
        "\n",
        "  print('Época:', epoca) #mostrar os pesos\n",
        "\n",
        "  for n in range(len(d)):\n",
        "\n",
        "      y = calculoSaida(x[n]) #atribuir a primeira saida\n",
        "\n",
        "      erro = d[n]-y #calcular o erro comparado com as saidas dadas\n",
        "\n",
        "      erroTotal += abs(erro)\n",
        "\n",
        "      w = w + (eta * x[n]* erro) #atualizar de acordo com o erro e taxa de aprendizado\n",
        "\n",
        "      b = b + (eta * b * erro) #atualizar de acordo com o erro e taxa de aprendizado\n",
        "\n",
        "      print('Pesos Atualizados:', str(w)) #mostrar os pesos\n",
        "      print('Total de Erros:', str(erroTotal)) #mostrar o erro total\n",
        "\n",
        "  epoca += 1\n",
        "\n",
        "\n"
      ]
    }
  ]
}